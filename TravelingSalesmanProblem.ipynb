{
 "cells": [
  {
   "cell_type": "markdown",
   "metadata": {},
   "source": [
    "# The Traveling Salesman Problem\n",
    "A spaceship needs to figure out its route throughout the planets, starting at Earth (and ending at Earth). The spaceship has minimal fuel, and can only go $x$ miles. How do you calculate this?\n",
    "\n",
    "This problem is quite complicated, and understanding it requires understanding of simple concepts.\n",
    "\n",
    "If you are a beginner in python, do not do this lesson before introductory lessons."
   ]
  },
  {
   "cell_type": "markdown",
   "metadata": {},
   "source": [
    "## 1: Big-O Notation\n",
    "In computer science, you need to have a way of analyzing the speed of your algorithm. As the size of your input gets bigger and bigger for a problem, how does the running time increase?\n",
    "\n",
    "To understand this better, you are going to design an algorithm that gets the maximum number in an array. You cannot use any builtin function of Python3, like $min()$.\n",
    "\n",
    "If you want to see how the running time increases, simply change the number of elements in the list, and experiment!"
   ]
  },
  {
   "cell_type": "code",
   "execution_count": 7,
   "metadata": {},
   "outputs": [
    {
     "name": "stdout",
     "output_type": "stream",
     "text": [
      "Finish the min function!\n",
      "7.605552673339844e-05\n"
     ]
    }
   ],
   "source": [
    "import random\n",
    "import time\n",
    "import math\n",
    "import itertools\n",
    "import random\n",
    "import sys\n",
    "from scipy.spatial import distance_matrix\n",
    "\n",
    "\n",
    "numElements = 100000\n",
    "\n",
    "def getMin(list1):\n",
    "    #Find the minimum here\n",
    "    return \"Finish the min function!\"\n",
    "    pass\n",
    "\n",
    "\n",
    "list1 = random.sample(range(1, 10**10), numElements)\n",
    "startTime = time.time()\n",
    "elapsed = time.time() - startTime\n",
    "print(getMin(list1))\n",
    "print(elapsed)"
   ]
  },
  {
   "cell_type": "markdown",
   "metadata": {},
   "source": [
    "What do you think about the running time of this algorithm? To implement this algorithm, you have to iterate through the list once, to look at all of the values. Because looking at the values should be the only that takes more time as the input size of the list increases, we can imagine that if you double the input size, you approximately double the running time. So, in Big-O notation, we say this function has running time $O(n)$, where $n$ is the input size. \n",
    "\n",
    "Remember that when an algorithm does something in linear time, and then does something in quadratic time ($n^2$), we can ignore the linear time in Big-O notation: all lower order terms are disregarded, because as input sizes increase they quickly become irrelevant.\n",
    "\n",
    "Next, design an algorithm called selection sort: in this algorithm, take an unsorted list and sort it by:\n",
    "Making a list\n",
    "Finding the minimum (using your function)\n",
    "Adding it to the list\n",
    "Returning the finished, sorted list"
   ]
  },
  {
   "cell_type": "code",
   "execution_count": 2,
   "metadata": {},
   "outputs": [
    {
     "name": "stdout",
     "output_type": "stream",
     "text": [
      "Start sorting! :)\n",
      "6.29425048828125e-05\n"
     ]
    }
   ],
   "source": [
    "global backup\n",
    "numElements = 100\n",
    "\n",
    "def sortList(list1):\n",
    "    #Find the minimum here\n",
    "    return list1\n",
    "\n",
    "def checkIfSorted(list1):\n",
    "    checker = True\n",
    "    for i in range(0,len(list1)-1):\n",
    "        if list1[i]>list1[i+1]:\n",
    "            checker = False   \n",
    "    if checker:\n",
    "        return \"You sorted it!\"\n",
    "    elif list1 == backup:\n",
    "        return \"Start sorting! :)\"\n",
    "    else:\n",
    "        return \"List sorted incorrectly\"\n",
    "list1 = random.sample(range(1, 10**10), numElements)\n",
    "backup = list1\n",
    "startTime = time.time()\n",
    "list1 = sortList(list1)\n",
    "elapsed = time.time() - startTime\n",
    "print(checkIfSorted(list1))\n",
    "print(elapsed)"
   ]
  },
  {
   "cell_type": "markdown",
   "metadata": {},
   "source": [
    "This new algorithm deploys the minimum algorithm $n$ times, and each time it goes through all of the items. Therefore, this algorithm has running time $O(n^2)$, because if the input size were doubled, the running time would quadruple.\n",
    "\n",
    "Below, there is an algorithm with a different running time—try and see if you can think of the running time, and experiment with different numbers of digits."
   ]
  },
  {
   "cell_type": "code",
   "execution_count": 3,
   "metadata": {},
   "outputs": [
    {
     "name": "stdout",
     "output_type": "stream",
     "text": [
      "You got it!\n",
      "432\n",
      "6.29425048828125e-05\n"
     ]
    }
   ],
   "source": [
    "numDigits = 3\n",
    "key = random.randint(0, 10**numDigits)\n",
    "length = len(str(key))\n",
    "numZeros = numDigits-length\n",
    "key = '0'*numZeros + str(key)\n",
    "def guessKey(numDigits):\n",
    "    for i in range(0,10**numDigits):\n",
    "        length = len(str(i))\n",
    "        numZeros = numDigits-length\n",
    "        submit = '0'*numZeros + str(i)\n",
    "        key = tryKey(submit)\n",
    "        if key:\n",
    "            print(key)\n",
    "            break\n",
    "def tryKey(submit):\n",
    "    if submit == key:\n",
    "        print('You got it!')\n",
    "        return key\n",
    "    else:\n",
    "        return False\n",
    "startTime = time.time()\n",
    "guessKey(numDigits)\n",
    "print(elapsed)\n",
    "elapsed = time.time() - startTime"
   ]
  },
  {
   "cell_type": "markdown",
   "metadata": {},
   "source": [
    "This algorithm is extremely inefficient, naturally. It has a running time $O(10^n)$, because every additional character of input multiplies the running time by 10. Any function with running time of the format $O(x^n)$, where $x$ is a constant, is exponential.\n",
    "\n",
    "Exponential time algorithms are generally very bad on a large scale. Even with $O(2^n)$, the maximum input is around 40."
   ]
  },
  {
   "cell_type": "markdown",
   "metadata": {},
   "source": [
    "## 2: On to P and NP Complexity Classes\n",
    "When we talk about problems, we sometimes want to make generalizations about running times—understand how fast some problems are, on a larger scale. When we group together problemsalgorithms, we call that group a complexity class. A few important definitions: \n",
    "<ul>\n",
    "        <li> Complexity class: A set of problems, usually grouped together because of similarities.</li> <br>\n",
    "        <li> Reduction: When problem $X$ is at least as hard as $Y$, then $X$ reduces to $Y$. In formal terms, when you can solve $X$ trivially from solving $Y$ (without a significant increase in running time), then $X$ reduces to $Y$</li><br>\n",
    "        <li> Completeness: If all problems reduce to one problem in a complexity class, then that problem is considered complete for the class.</li>\n",
    "</ul>\n",
    "\n",
    "Now, we are finally ready to define $P$ and $NP$: \n",
    "\n",
    "$P$ is the complexity class of all problems that can be solved in polynomial time ($O(n^x)$, where $x$ is a constant). \n",
    "\n",
    "$NP$ is somewhat more complicated: $NP$ is the complexity class of all problems for which you can check a given solution (whether it is correct or not) in polynomial time: therefore, of course, all problems in $P$ are also in $NP$."
   ]
  },
  {
   "cell_type": "markdown",
   "metadata": {},
   "source": [
    "### Traveling Salesman Problem\n",
    "The Traveling Salesman Problem is defined as: Given a mile capacity $m$ and a list of cities you need a visit, find a route to visit all the cities and return back to your starting place, below mile capacity $m$. In this case, you are on a spaceship on Earth. You want to find a path to 20 planets in the galaxy that returns to Earth that is within your capacity of miles.\n",
    "\n",
    "This problem, in fact, is an $NP$-complete problem.  In other words, no-one to this day knows whether this problem can be solved in polynomial time—if it could, however, due to its definition as complete, it would implicitly solve every other problem in NP in polynomial time as well. The problem is clearly in NP because given a solution, you only have to check whether the solution gets to all the planets in a short enough distance-this is polynomial time.\n",
    "\n",
    "This is the big, unsolved problem of today. Proving that either $P=NP$, or $P≠NP$—many of the problems of today are NP-Complete, and in fact no one has found a problem that isn't in $P$ (that we know of yet), is in $NP$, but isn't NP-Complete."
   ]
  },
  {
   "cell_type": "markdown",
   "metadata": {},
   "source": [
    "Knowing now that it is impossible to solve the Traveling Salesman Problem in polynomial (as we know of yet), you will try to implement an algorithm that solves the problem. Brute force is fine, just try any algorithm you think will work.\n",
    "\n",
    "Experiment with your algorithm! See how many cities you can get to...\n",
    "\n",
    "If this is too hard for you, you can skip..."
   ]
  },
  {
   "cell_type": "code",
   "execution_count": 4,
   "metadata": {},
   "outputs": [
    {
     "name": "stdout",
     "output_type": "stream",
     "text": [
      "8.392333984375e-05\n",
      "[(1, 9), (2, 15), (18, 17), (11, 4)]\n"
     ]
    }
   ],
   "source": [
    "numCities = 5\n",
    "#For this problem, try and find the shortest distance—it should make little difference in implementation...\n",
    "def TravelingSalesmanProblem(cities, startingCity):\n",
    "    #Do some code, return a reordered list cities, which shows\n",
    "    #the order in which you will go on your tour. Do not put in\n",
    "    #the source coordinate at any point in the list—it is assumed\n",
    "    #that the tour starts and ends with it.\n",
    "    pass\n",
    "    return cities \n",
    "x = random.sample(range(1,20),numCities)\n",
    "y = random.sample(range(1,20),numCities)\n",
    "cities = [(a,b) for a,b in zip(x,y)]\n",
    "startTime = time.time()\n",
    "citiesDone = TravelingSalesmanProblem(cities[1:],cities[0])\n",
    "elapsed = time.time()-startTime\n",
    "print(elapsed)\n",
    "print(citiesDone)"
   ]
  },
  {
   "cell_type": "markdown",
   "metadata": {},
   "source": [
    "## 3: Dynamic Programming Algorithms—Improve the Traveling Salesman Brute Force Algorithm\n",
    "Although there is no known way to solve the Traveling Salesman Problem in polynomial time, often it is important to optimize algorithms in whatever way possible, because they are vital to a problem you are solving. The obvious brute force algortihm for the Travelling Salesman Problem has a running time of $O(n!)$, which means that every additional city increases the running time by a factor of $n$.\n",
    "\n",
    "This algorithm is very poor, so in order to improve the exponential running time, we start out by employing a very important algorithmic strategy: *dynamic programming*."
   ]
  },
  {
   "cell_type": "markdown",
   "metadata": {},
   "source": [
    "### Weighted Independent Set in Path Graphs\n",
    "This problem is a good example to understand dynamic programming, and its countless uses.\n",
    "\n",
    "Input:\n",
    "You are given a set of vertices, S in the form of a path:\n",
    "$a \\to b \\to c \\to d \\to ... \\to x \\to y \\to z$\n",
    "Each of these vertices is assigned a nonnegativevalue: i.e., $a=3, b=4, ..., z=0$.\n",
    "\n",
    "Ouput:\n",
    "You need to output a subset of vertices, in which none of the vertices were consecutive in the original path (above).\n",
    "This subset needs to have the maximum sum of vertices of all such subsets.\n",
    "\n",
    "This problem, although relatively simple, is quite difficult to solve. In order to do so, we define a subset $O$ of our original vertices, which we define to be the correct output for the set $S$.\n",
    "\n",
    "In order to examine this subset $O$, we try and understand some of the characteristics of the subset $O$. We define two cases:\n",
    "\n",
    "Case 1:\n",
    "In this case, $O$ does not contain the very last element in the path graph—we call it $z$.  Because it does not contain this element, a smaller input, $a \\to b \\to c \\to d \\to ... \\to x \\to y$, would have the same optimal solution $O$. If it had a different optimal solution, then our current problem would have the same, different solution. \n",
    "\n",
    "\n",
    "Case 2:\n",
    "In this case, $O$ does contain $z$. We define $O'$ to be $O$ without $z$, and we can say definitively that $O'$ is the optimal solution for the path graph without $z$ or $y$. $O'$ is the optimal solution for $a \\to b \\to c \\to d \\to ... \\to x$. If there was a better solution, $H'$, for this subset, then you could use this optimal solution and add $z$ to get a better $O$...\n",
    "\n",
    "Now, we are equipped to solve this problem. In order to understand the algorithm, I will give an example. Then, you can try to implemenet the algorithm below, and you can experiment with different input path graphs. For the algorithm below, the path graph will be represented as an array. The example is below:\n",
    "\n",
    "$\\begin{bmatrix} 5 & 1 & 1 & 1000 \\end{bmatrix}$\n",
    "\n",
    "In the algorithm, we make an array to represent the answer to the problem for subsets - we start out will everything at NULL:\n",
    "\n",
    "$\\begin{bmatrix} \\text{NULL} & \\text{NULL} & \\text{NULL} & \\text{NULL} \\end{bmatrix}$\n",
    "\n",
    "First, we make the base case—in this case, the subset of just 5 has an optimal solution of 5—there is only one element.\n",
    "\n",
    "$\\begin{bmatrix} 5 & \\text{NULL} & \\text{NULL} & \\text{NULL} \\end{bmatrix}$\n",
    "\n",
    "Now, we do the second element. We remember our two options—the optimal solution is either the same as the last optimal solution (5), or the optimal solution two times ago with the new element. In this case, we take max($5,1+0$) = 5.\n",
    "\n",
    "$\\begin{bmatrix} 5 & 5 & \\text{NULL} & \\text{NULL} \\end{bmatrix}$\n",
    "\n",
    "Now, we do the third element. It has two options—the last element, 5, or the element two times ago + the current element (5+1). Max((5+1),5)=1, so the next element in the array is 6.\n",
    "\n",
    "$\\begin{bmatrix} 5 & 5 & 6 & \\text{NULL} \\end{bmatrix}$\n",
    "\n",
    "Now, we do the final element, which represents the optimal solution for our entire set—for this element, we take the maximum of 6, or 1000 +5. We, of course, choose 1000+5, getting 1005 for the last element of the matrix.\n",
    "\n",
    "$\\begin{bmatrix} 5 & 5 & 6 & 1005 \\end{bmatrix}$\n",
    "\n",
    "These numbers, in fact, represent the solution to the problem for every $n$ length prefix of the entire path graph. The last number is our solution.\n",
    "\n",
    "Overall, this program was very efficient: $O(n)$. All due to dynamic programming!"
   ]
  },
  {
   "cell_type": "markdown",
   "metadata": {},
   "source": [
    "Dynamic Programming, in general, is the idea of finding the way of reducing a problem to subproblems, and systematically go through the subproblems. After reaching the last subproblem, you should be able to trivially get the answer: in this case, and in many, the largest subproblem is the answer."
   ]
  },
  {
   "cell_type": "code",
   "execution_count": 5,
   "metadata": {},
   "outputs": [
    {
     "name": "stdout",
     "output_type": "stream",
     "text": [
      "[207, 742, 124, 914, 239, 663, 599, 645, 486, 940, 157, 255, 605, 931, 40, 165, 501, 899, 629, 808, 206, 728, 19, 477, 394, 837, 217, 697, 948, 770, 431, 150, 721, 208, 58, 308, 487, 272, 748, 784, 943, 421, 282, 190, 418, 762, 768, 137, 813, 88, 681, 922, 612, 933, 881, 215, 243, 731, 219, 739, 882, 230, 664, 968, 225, 711, 463, 682, 54, 140, 860, 259, 750, 753, 318, 11, 506, 615, 459, 451, 617, 824, 69, 873, 338, 758, 699, 227, 353, 216, 888, 367, 344, 25, 696, 586, 966, 967, 416, 980] 52217\n",
      "This subset has consecutive elements of the set... This is not a valid answer\n"
     ]
    }
   ],
   "source": [
    "listSet = random.sample(range(1,1000),100)\n",
    "def weightedIndependentSet(listSet):\n",
    "    #Finish code here, return subset\n",
    "    return listSet\n",
    "newListSet = weightedIndependentSet(listSet)\n",
    "print(newListSet, sum(newListSet))\n",
    "yes = True\n",
    "for i in range(0,len(newListSet)-1):\n",
    "    if abs(listSet.index(newListSet[i]) - listSet.index(newListSet[i+1]))==1:\n",
    "        yes = False\n",
    "if not yes:\n",
    "    print(\"This subset has consecutive elements of the set... This is not a valid answer\")"
   ]
  },
  {
   "cell_type": "markdown",
   "metadata": {},
   "source": [
    "## Held–Karp Algorithm - Traveling Salesman Problem Dynamic Programming Algorithm\n",
    "\n",
    "\n",
    "Now, we are equipped with a great strategy for tackling the Traveling Salesman Problem. However, we should not expect to get polynomial time out of it—only to improve the exponential time. Eventually, we will get a running time of $O(2^n\\cdot n^2)$; although this may seem pretty bad, it allows us to go from a maximum number of cities of 10 to 20 with fast computers, especially futuristic ones on spaceships. \n",
    "\n",
    "Just for comparison, the naive algorithm would run $10^24$ times slower on 20 cities than the dynamic programming algorithm.\n",
    "\n",
    "### Held-Karp Algorithm\n",
    "In this algorithm, there are many subproblems. First, however, let's understand exactly how these subproblems work. We have a subproblem for every single possible combinations of all of the cities (unordered). For each of combination of the cities one city is chosen to be the last city in whatever path chosen. These subproblems are iterated through by number of cities in in a combination of cities.\n",
    "\n",
    "Each subproblem is defined from its earlier subproblems in the following manner:\n",
    "\n",
    "$A[S,j]= min_{j\\varepsilon S;\\text{ }k\\varepsilon S;\\text{ } k≠j}(A[S-{j},k]+C_{kj})$\n",
    "\n",
    "\n",
    "What does all of this mean? First, we know that $j$ is an element of $S$ for the subproblem. Second, we know that $k$ is an element of $S$ as well. Finally, $k$ is not the same thing as $j$. In the update step, we take the minimum of all of the possible values of $k$ for the statement $A[S-{j},k]+C_{kj}$. \n",
    "\n",
    "This means that in our 2d array A (one dimension is the exact list of vertices, the other dimension is the destination vertex), we index the point which shows the shortest path from the starting vertex to $k$, using everything in $S$ except for $j$. Imagine it like this—if we are trying to find the shortest path from the starting vertex to $j$ using an exact set $S$—the only way to do this is to try a path from the starting vertex using an exact set $S-{j}$, to any one of the vertices in $S$ that isn't $j$. Then, we add the distance from $k$ to $j$, represented by $C_{kj}$. We take the minimum of the result for all of the possible vertices $k$, and then set the index to the result.\n",
    "\n",
    "This algorithm, because it performs on unordered sets S, has a running time of $O(2^nn^2)$\n",
    "\n",
    "Below is the code for this algorithm. As you can see, it can perform on 20 cities!"
   ]
  },
  {
   "cell_type": "code",
   "execution_count": 15,
   "metadata": {},
   "outputs": [
    {
     "name": "stdout",
     "output_type": "stream",
     "text": [
      "(426.0156493145461, [0, 3, 7, 15, 6, 11, 17, 14, 19, 4, 8, 18, 10, 12, 13, 16, 1, 2, 9, 5])\n",
      "84.22536516189575\n"
     ]
    }
   ],
   "source": [
    "numCities = 20\n",
    "x = random.sample(range(1,100),numCities)\n",
    "y = random.sample(range(1,100),numCities)\n",
    "cities = [(a,b) for a,b in zip(x,y)]\n",
    "matrix = distance_matrix(cities, cities)\n",
    "startTime = time.time()\n",
    "print(held_karp(matrix))\n",
    "elapsed = time.time()-startTime\n",
    "print(elapsed)\n",
    "def distance(city1, city2):\n",
    "    return city1[0]-city2[0]\n",
    "\n",
    "\n",
    "\n",
    "def held_karp(dists):\n",
    "    \"\"\"\n",
    "    https://github.com/CarlEkerot/held-karp/blob/master/held-karp.py\n",
    "    \"\"\"\n",
    "    n = len(dists)\n",
    "\n",
    "    # Maps each subset of the nodes to the cost to reach that subset, as well\n",
    "    # as what node it passed before reaching this subset.\n",
    "    # Node subsets are represented as set bits.\n",
    "    C = {}\n",
    "\n",
    "    # Set transition cost from initial state\n",
    "    for k in range(1, n):\n",
    "        C[(1 << k, k)] = (dists[0][k], 0)\n",
    "\n",
    "    # Iterate subsets of increasing length and store intermediate results\n",
    "    # in classic dynamic programming manner\n",
    "    for subset_size in range(2, n):\n",
    "        for subset in itertools.combinations(range(1, n), subset_size):\n",
    "            # Set bits for all nodes in this subset\n",
    "            bits = 0\n",
    "            for bit in subset:\n",
    "                bits |= 1 << bit\n",
    "\n",
    "            # Find the lowest cost to get to this subset\n",
    "            for k in subset:\n",
    "                prev = bits & ~(1 << k)\n",
    "\n",
    "                res = []\n",
    "                for m in subset:\n",
    "                    if m == 0 or m == k:\n",
    "                        continue\n",
    "                    res.append((C[(prev, m)][0] + dists[m][k], m))\n",
    "                C[(bits, k)] = min(res)\n",
    "\n",
    "    # We're interested in all bits but the least significant (the start state)\n",
    "    bits = (2**n - 1) - 1\n",
    "\n",
    "    # Calculate optimal cost\n",
    "    res = []\n",
    "    for k in range(1, n):\n",
    "        res.append((C[(bits, k)][0] + dists[k][0], k))\n",
    "    opt, parent = min(res)\n",
    "\n",
    "    # Backtrack to find full path\n",
    "    path = []\n",
    "    for i in range(n - 1):\n",
    "        path.append(parent)\n",
    "        new_bits = bits & ~(1 << parent)\n",
    "        _, parent = C[(bits, parent)]\n",
    "        bits = new_bits\n",
    "\n",
    "    # Add implicit start state\n",
    "    path.append(0)\n",
    "\n",
    "    return opt, list(reversed(path))\n",
    "\n",
    "\n",
    "def generate_distances(n):\n",
    "    dists = [[0] * n for i in range(n)]\n",
    "    for i in range(n):\n",
    "        for j in range(i+1, n):\n",
    "            dists[i][j] = dists[j][i] = random.randint(1, 99)\n",
    "\n",
    "    return dists\n",
    "\n",
    "\n",
    "def read_distances(filename):\n",
    "    dists = []\n",
    "    with open(filename, 'rb') as f:\n",
    "        for line in f:\n",
    "            # Skip comments\n",
    "            if line[0] == '#':\n",
    "                continue\n",
    "\n",
    "            dists.append(map(int, map(str.strip, line.split(','))))\n",
    "\n",
    "    return dists\n"
   ]
  },
  {
   "cell_type": "code",
   "execution_count": null,
   "metadata": {},
   "outputs": [],
   "source": []
  }
 ],
 "metadata": {
  "kernelspec": {
   "display_name": "Python 3",
   "language": "python",
   "name": "python3"
  },
  "language_info": {
   "codemirror_mode": {
    "name": "ipython",
    "version": 3
   },
   "file_extension": ".py",
   "mimetype": "text/x-python",
   "name": "python",
   "nbconvert_exporter": "python",
   "pygments_lexer": "ipython3",
   "version": "3.7.0"
  }
 },
 "nbformat": 4,
 "nbformat_minor": 2
}
